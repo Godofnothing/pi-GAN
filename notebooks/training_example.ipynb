{
 "metadata": {
  "language_info": {
   "codemirror_mode": {
    "name": "ipython",
    "version": 3
   },
   "file_extension": ".py",
   "mimetype": "text/x-python",
   "name": "python",
   "nbconvert_exporter": "python",
   "pygments_lexer": "ipython3",
   "version": "3.8.5-final"
  },
  "orig_nbformat": 2,
  "kernelspec": {
   "name": "python38564bitbf655978d2c946a58c379ce12fbd1b12",
   "display_name": "Python 3.8.5 64-bit",
   "language": "python"
  }
 },
 "nbformat": 4,
 "nbformat_minor": 2,
 "cells": [
  {
   "cell_type": "code",
   "execution_count": 1,
   "metadata": {},
   "outputs": [],
   "source": [
    "import sys\n",
    "sys.path.append(\"..\")\n",
    "\n",
    "import pytorch_lightning as pl"
   ]
  },
  {
   "cell_type": "code",
   "execution_count": 2,
   "metadata": {},
   "outputs": [],
   "source": [
    "from torch import nn\n",
    "from src import ImageDataset, ImageLoader, piGAN"
   ]
  },
  {
   "cell_type": "code",
   "execution_count": 3,
   "metadata": {},
   "outputs": [],
   "source": [
    "optim_cfg = {\n",
    "    \"discriminator\" : {\n",
    "        \"learning_rate\" : 4e-4,\n",
    "        \"target_learning_rate\" : 1e-4\n",
    "    },\n",
    "    \"generator\" : {\n",
    "        \"learning_rate\" : 5e-5,\n",
    "        \"target_learning_rate\" : 1e-5\n",
    "    },\n",
    "    \"learning_rate_decay_span\" : 10000\n",
    "}\n",
    "\n",
    "generator_cfg = {\n",
    "    \"mapping_network_kw\" : {\n",
    "        \"depth\" : 3\n",
    "    },\n",
    "    \"siren_mlp_kw\" : {\n",
    "        \"num_layers\" : 6,\n",
    "    }\n",
    "}\n",
    "\n",
    "discriminator_cfg = {\n",
    "    \"init_resolution\" : 32,\n",
    "    \"max_chan\" : 100,\n",
    "    \"pow2_bottom_layer_chans\" : 8,\n",
    "}"
   ]
  },
  {
   "cell_type": "code",
   "execution_count": 7,
   "metadata": {},
   "outputs": [],
   "source": [
    "import torchvision.transforms as T\n",
    "\n",
    "augmentation_list = [\n",
    "    T.ColorJitter(brightness=0.1, saturation=0.1, contrast=0.1, hue=0.1),\n",
    "    T.RandomResizedCrop(size=128, scale = (0.2, 1), ratio=(4/ 5, 5 / 4)),\n",
    "    T.RandomPerspective(distortion_scale=0.1, p=0.3),\n",
    "    T.RandomAffine(degrees=10, translate=(0.1, 0.1))\n",
    "]"
   ]
  },
  {
   "cell_type": "code",
   "execution_count": 8,
   "metadata": {},
   "outputs": [],
   "source": [
    "image_dataset = ImageDataset(data_dir=\"../images/flowers\", image_size=128, augmentation_list=augmentation_list)\n",
    "image_loader = ImageLoader(image_dataset=image_dataset, batch_size=2, num_workers=4)"
   ]
  },
  {
   "cell_type": "code",
   "execution_count": 9,
   "metadata": {},
   "outputs": [],
   "source": [
    "import torchvision.transforms as T\n",
    "\n",
    "image_size=128\n",
    "\n",
    "augmentation_list = [\n",
    "    T.ColorJitter(brightness=0.1, saturation=0.1, contrast=0.1, hue=0.1),\n",
    "    T.RandomResizedCrop(size=image_size, scale = (0.2, 1), ratio=(4/ 5, 5 / 4)),\n",
    "    T.RandomPerspective(distortion_scale=0.1, p=0.3),\n",
    "    T.RandomAffine(degrees=10, translate=(0.1, 0.1)),\n",
    "    T.GaussianBlur(kernel_size=3)\n",
    "]\n",
    "\n",
    "image_dataset = ImageDataset(\n",
    "    data_dir=\"/root/.keras/datasets/flower_photos/sunflowers/\", \n",
    "    image_size=image_size,\n",
    "    augmentation_list=augmentation_list\n",
    ")\n",
    "\n",
    "image_loader = ImageLoader(image_dataset=image_dataset, batch_size=1, num_workers=4)\n",
    "\n",
    "pi_GAN = piGAN(\n",
    "    image_size=image_size,\n",
    "    input_features=128,\n",
    "    hidden_features=64,\n",
    "    optim_cfg=optim_cfg,\n",
    "    sample_every=2,\n",
    "    generator_cfg=generator_cfg,\n",
    "    discriminator_cfg=discriminator_cfg,\n",
    "    image_dataset=image_dataset,\n",
    "    batch_size=image_loader.batch_size,\n",
    "    num_samples=1,\n",
    "    loss_mode=\"log\"\n",
    ")"
   ]
  },
  {
   "cell_type": "code",
   "execution_count": 10,
   "metadata": {},
   "outputs": [
    {
     "output_type": "stream",
     "name": "stderr",
     "text": [
      "GPU available: True, used: False\n",
      "TPU available: None, using: 0 TPU cores\n",
      "/home/blackadder/.local/lib/python3.8/site-packages/pytorch_lightning/utilities/distributed.py:50: UserWarning: GPU available but not used. Set the --gpus flag when calling the script.\n",
      "  warnings.warn(*args, **kwargs)\n"
     ]
    }
   ],
   "source": [
    "trainer = pl.Trainer(\n",
    "    max_epochs=50000, \n",
    "    progress_bar_refresh_rate=20,\n",
    "    accumulate_grad_batches=4\n",
    ")"
   ]
  },
  {
   "cell_type": "code",
   "execution_count": 11,
   "metadata": {},
   "outputs": [
    {
     "output_type": "stream",
     "name": "stderr",
     "text": [
      "\n",
      "  | Name               | Type              | Params\n",
      "---------------------------------------------------------\n",
      "0 | G                  | Generator         | 199 K \n",
      "1 | D                  | Discriminator     | 439 K \n",
      "2 | discriminator_loss | BCEWithLogitsLoss | 0     \n",
      "3 | generator_loss     | BCEWithLogitsLoss | 0     \n",
      "---------------------------------------------------------\n",
      "638 K     Trainable params\n",
      "0         Non-trainable params\n",
      "638 K     Total params\n",
      "2.553     Total estimated model params size (MB)\n",
      "Epoch 0:   0%|          | 0/17 [00:00<?, ?it/s] /home/blackadder/.local/lib/python3.8/site-packages/pytorch_lightning/utilities/distributed.py:50: UserWarning: The {progress_bar:dict keyword} was deprecated in 0.9.1 and will be removed in 1.0.0\n",
      "Please use self.log(...) inside the lightningModule instead.\n",
      "# log on a step or aggregate epoch metric to the logger and/or progress bar (inside LightningModule)\n",
      "self.log('train_loss', loss, on_step=True, on_epoch=True, prog_bar=True)\n",
      "  warnings.warn(*args, **kwargs)\n",
      "/home/blackadder/.local/lib/python3.8/site-packages/pytorch_lightning/utilities/distributed.py:50: UserWarning: The {log:dict keyword} was deprecated in 0.9.1 and will be removed in 1.0.0\n",
      "Please use self.log(...) inside the lightningModule instead.\n",
      "# log on a step or aggregate epoch metric to the logger and/or progress bar (inside LightningModule)\n",
      "self.log('train_loss', loss, on_step=True, on_epoch=True, prog_bar=True)\n",
      "  warnings.warn(*args, **kwargs)\n",
      "Epoch 18:   0%|          | 0/17 [00:21<?, ?it/s, loss=4.26, v_num=63, loss_D=0.0408, loss_G=4.640]/home/blackadder/.local/lib/python3.8/site-packages/pytorch_lightning/utilities/distributed.py:50: UserWarning: Detected KeyboardInterrupt, attempting graceful shutdown...\n",
      "  warnings.warn(*args, **kwargs)\n",
      "\n"
     ]
    },
    {
     "output_type": "execute_result",
     "data": {
      "text/plain": [
       "1"
      ]
     },
     "metadata": {},
     "execution_count": 11
    }
   ],
   "source": [
    "trainer.fit(\n",
    "    model=pi_GAN,\n",
    "    train_dataloader=image_loader\n",
    ")"
   ]
  },
  {
   "cell_type": "code",
   "execution_count": null,
   "metadata": {},
   "outputs": [],
   "source": []
  }
 ]
}