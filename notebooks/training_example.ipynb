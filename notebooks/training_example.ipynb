{
 "metadata": {
  "language_info": {
   "codemirror_mode": {
    "name": "ipython",
    "version": 3
   },
   "file_extension": ".py",
   "mimetype": "text/x-python",
   "name": "python",
   "nbconvert_exporter": "python",
   "pygments_lexer": "ipython3",
   "version": "3.8.5-final"
  },
  "orig_nbformat": 2,
  "kernelspec": {
   "name": "python38564bitbf655978d2c946a58c379ce12fbd1b12",
   "display_name": "Python 3.8.5 64-bit",
   "language": "python"
  }
 },
 "nbformat": 4,
 "nbformat_minor": 2,
 "cells": [
  {
   "cell_type": "code",
   "execution_count": 1,
   "metadata": {},
   "outputs": [],
   "source": [
    "import sys\n",
    "sys.path.append(\"..\")\n",
    "\n",
    "import pytorch_lightning as pl"
   ]
  },
  {
   "cell_type": "code",
   "execution_count": 3,
   "metadata": {},
   "outputs": [],
   "source": [
    "from torch import nn\n",
    "from src import ImageDataset, ImageLoader, piGAN"
   ]
  },
  {
   "cell_type": "code",
   "execution_count": 8,
   "metadata": {},
   "outputs": [],
   "source": [
    "optim_cfg = {\n",
    "    \"discriminator\" : {\n",
    "        \"learning_rate\" : 4e-4,\n",
    "        \"target_learning_rate\" : 1e-4\n",
    "    },\n",
    "    \"generator\" : {\n",
    "        \"learning_rate\" : 5e-5,\n",
    "        \"target_learning_rate\" : 1e-5\n",
    "    },\n",
    "    \"learning_rate_decay_span\" : 10000\n",
    "}\n",
    "\n",
    "generator_cfg = {\n",
    "    \"mapping_network_kw\" : {\n",
    "        \"depth\" : 3\n",
    "    },\n",
    "    \"siren_mlp_kw\" : {\n",
    "        \"num_layers\" : 6,\n",
    "    }\n",
    "}\n",
    "\n",
    "discriminator_cfg = {\n",
    "    \"init_resolution\" : 32,\n",
    "    \"max_chan\" : 200,\n",
    "    \"pow2_bottom_layer_chans\" : 8,\n",
    "    # \"final_activation\" : nn.Sigmoid()\n",
    "}"
   ]
  },
  {
   "cell_type": "code",
   "execution_count": 9,
   "metadata": {},
   "outputs": [],
   "source": [
    "image_dataset = ImageDataset(data_dir=\"../images/flowers\", image_size=128)\n",
    "image_loader = ImageLoader(image_dataset=image_dataset, batch_size=2, num_workers=4)"
   ]
  },
  {
   "cell_type": "code",
   "execution_count": 10,
   "metadata": {},
   "outputs": [],
   "source": [
    "pi_GAN = piGAN(\n",
    "    image_size=128,\n",
    "    input_features=128,\n",
    "    hidden_features=128,\n",
    "    optim_cfg=optim_cfg,\n",
    "    sample_every=20,\n",
    "    generator_cfg=generator_cfg,\n",
    "    discriminator_cfg=discriminator_cfg,\n",
    "    image_dataset=image_dataset,\n",
    "    batch_size=image_loader.batch_size,\n",
    "    loss_mode=\"log\"\n",
    ")"
   ]
  },
  {
   "cell_type": "code",
   "execution_count": 11,
   "metadata": {},
   "outputs": [
    {
     "output_type": "stream",
     "name": "stderr",
     "text": [
      "GPU available: True, used: False\n",
      "TPU available: None, using: 0 TPU cores\n",
      "/home/blackadder/.local/lib/python3.8/site-packages/pytorch_lightning/utilities/distributed.py:50: UserWarning: GPU available but not used. Set the --gpus flag when calling the script.\n",
      "  warnings.warn(*args, **kwargs)\n"
     ]
    }
   ],
   "source": [
    "trainer = pl.Trainer(\n",
    "    max_epochs=50000, \n",
    "    progress_bar_refresh_rate=20,\n",
    "    accumulate_grad_batches=4\n",
    ")"
   ]
  },
  {
   "cell_type": "code",
   "execution_count": 12,
   "metadata": {},
   "outputs": [
    {
     "output_type": "stream",
     "name": "stderr",
     "text": [
      "\n",
      "  | Name               | Type              | Params\n",
      "---------------------------------------------------------\n",
      "0 | G                  | Generator         | 199 K \n",
      "1 | D                  | Discriminator     | 247 K \n",
      "2 | discriminator_loss | BCEWithLogitsLoss | 0     \n",
      "3 | generator_loss     | BCEWithLogitsLoss | 0     \n",
      "---------------------------------------------------------\n",
      "446 K     Trainable params\n",
      "0         Non-trainable params\n",
      "446 K     Total params\n",
      "1.787     Total estimated model params size (MB)\n",
      "Epoch 12:   0%|          | 0/17 [00:11<?, ?it/s, loss=7.37, v_num=57, loss_D=4.2e-5, loss_G=10.60]\n"
     ]
    },
    {
     "output_type": "execute_result",
     "data": {
      "text/plain": [
       "1"
      ]
     },
     "metadata": {},
     "execution_count": 12
    }
   ],
   "source": [
    "trainer.fit(\n",
    "    model=pi_GAN,\n",
    "    train_dataloader=image_loader\n",
    ")"
   ]
  },
  {
   "cell_type": "code",
   "execution_count": null,
   "metadata": {},
   "outputs": [],
   "source": []
  }
 ]
}