{
 "metadata": {
  "language_info": {
   "codemirror_mode": {
    "name": "ipython",
    "version": 3
   },
   "file_extension": ".py",
   "mimetype": "text/x-python",
   "name": "python",
   "nbconvert_exporter": "python",
   "pygments_lexer": "ipython3",
   "version": "3.8.5-final"
  },
  "orig_nbformat": 2,
  "kernelspec": {
   "name": "python38564bitbf655978d2c946a58c379ce12fbd1b12",
   "display_name": "Python 3.8.5 64-bit",
   "language": "python"
  }
 },
 "nbformat": 4,
 "nbformat_minor": 2,
 "cells": [
  {
   "cell_type": "code",
   "execution_count": 1,
   "metadata": {},
   "outputs": [],
   "source": [
    "import sys\n",
    "sys.path.append(\"..\")\n",
    "\n",
    "import pytorch_lightning as pl"
   ]
  },
  {
   "cell_type": "code",
   "execution_count": 2,
   "metadata": {},
   "outputs": [],
   "source": [
    "from src import ImageDataset, ImageLoader, piGAN"
   ]
  },
  {
   "cell_type": "code",
   "execution_count": 3,
   "metadata": {},
   "outputs": [],
   "source": [
    "optim_cfg = {\n",
    "    \"discriminator\" : {\n",
    "        \"learning_rate\" : 4e-4,\n",
    "        \"target_learning_rate\" : 1e-4\n",
    "    },\n",
    "    \"generator\" : {\n",
    "        \"learning_rate\" : 5e-4,\n",
    "        \"target_learning_rate\" : 1e-5\n",
    "    },\n",
    "    \"learning_rate_decay_span\" : 10000\n",
    "}\n",
    "\n",
    "generator_cfg = {\n",
    "    \"mapping_network_kw\" : {\n",
    "        \"depth\" : 2\n",
    "    },\n",
    "    \"siren_mlp_kw\" : {\n",
    "        \"num_layers\" : 3,\n",
    "    }\n",
    "}\n",
    "\n",
    "discriminator_cfg = {\n",
    "    \"init_resolution\" : 32\n",
    "}"
   ]
  },
  {
   "cell_type": "code",
   "execution_count": 4,
   "metadata": {},
   "outputs": [],
   "source": [
    "image_dataset = ImageDataset(data_dir=\"../images\", image_size=64)\n",
    "image_loader = ImageLoader(image_dataset=image_dataset, batch_size=1, num_workers=4)"
   ]
  },
  {
   "cell_type": "code",
   "execution_count": 5,
   "metadata": {},
   "outputs": [],
   "source": [
    "pi_GAN = piGAN(\n",
    "    image_size=64,\n",
    "    dim_input=64,\n",
    "    dim_hidden=64,\n",
    "    optim_cfg=optim_cfg,\n",
    "    sample_every=20,\n",
    "    generator_cfg=generator_cfg,\n",
    "    discriminator_cfg=discriminator_cfg,\n",
    "    image_dataset=image_dataset,\n",
    "    batch_size=image_loader.batch_size\n",
    ")"
   ]
  },
  {
   "cell_type": "code",
   "execution_count": 6,
   "metadata": {},
   "outputs": [
    {
     "output_type": "stream",
     "name": "stderr",
     "text": [
      "GPU available: True, used: False\n",
      "TPU available: None, using: 0 TPU cores\n"
     ]
    }
   ],
   "source": [
    "trainer = pl.Trainer(\n",
    "    max_epochs=50000, \n",
    "    progress_bar_refresh_rate=20,\n",
    "    accumulate_grad_batches=4\n",
    ")"
   ]
  },
  {
   "cell_type": "code",
   "execution_count": 7,
   "metadata": {},
   "outputs": [
    {
     "output_type": "stream",
     "name": "stderr",
     "text": [
      "\n",
      "  | Name | Type          | Params\n",
      "---------------------------------------\n",
      "0 | G    | Generator     | 33.8 K\n",
      "1 | D    | Discriminator | 9.8 M \n",
      "---------------------------------------\n",
      "9.8 M     Trainable params\n",
      "0         Non-trainable params\n",
      "9.8 M     Total params\n",
      "39.170    Total estimated model params size (MB)\n",
      "Epoch 78:   0%|          | 0/3 [00:02<?, ?it/s, loss=1.1, v_num=19, loss_D=0.000, loss_G=2.240]\n"
     ]
    },
    {
     "output_type": "execute_result",
     "data": {
      "text/plain": [
       "1"
      ]
     },
     "metadata": {},
     "execution_count": 7
    }
   ],
   "source": [
    "trainer.fit(\n",
    "    model=pi_GAN,\n",
    "    train_dataloader=image_loader\n",
    ")"
   ]
  }
 ]
}